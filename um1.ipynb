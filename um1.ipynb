{
 "cells": [
  {
   "cell_type": "markdown",
   "metadata": {},
   "source": [
    "<font color='pink'> *Uczenie maszynowe* </font>\n",
    "\n",
    "## TEMAT 1: Szybkie wprowadzenie do Pythona i Jupyter Notebook\n",
    "\n",
    "<font color='orange'> Prowadząca: dr inż. Urszula Libal </font>"
   ]
  },
  {
   "cell_type": "markdown",
   "metadata": {},
   "source": [
    "# Zadanie 1\n",
    "\n",
    "Proste obliczenia w języku Python i wyświetlanie wyniku. \n",
    "Uruchomienie kodu w wybranej komórce: Ctrl+Enter."
   ]
  },
  {
   "cell_type": "code",
   "execution_count": null,
   "metadata": {},
   "outputs": [],
   "source": [
    "a = 1\n",
    "b = 2\n",
    "\n",
    "print (a+b)\n",
    "print ('a+b =',a+b)\n",
    "\n",
    "print (a/b)\n",
    "print ('a/b =',a/b)\n",
    "print ('a/b =',int(a/b)) # rzutowanie wyniku na typ int"
   ]
  },
  {
   "cell_type": "code",
   "execution_count": null,
   "metadata": {},
   "outputs": [],
   "source": []
  },
  {
   "cell_type": "markdown",
   "metadata": {},
   "source": [
    "# Zadanie 2\n",
    "\n",
    "Instrukcja warunkowa w języku Python ma składnię\n",
    "\n",
    "```python\n",
    "if condition:\n",
    "    expr1\n",
    "    expr2\n",
    "    \n",
    "if condition:\n",
    "    expr1\n",
    "    expr2\n",
    "else:\n",
    "    expr3\n",
    "    \n",
    "if condition:\n",
    "    expr1\n",
    "    expr2\n",
    "elif condition2:\n",
    "    expr3\n",
    "else:\n",
    "    expr4\n",
    "    \n",
    "```\n",
    "\n",
    "Napisz program, który dla podanych ocen z wykładu i laboratorium obliczy ocenę końcową z grupy kursów.\n",
    "\n",
    "- Ocena = (0.6W+0.4L) jeśli W >= 3.0 i L >= 3.0\n",
    "- Ocena = 2.0 jeśli W == 2.0 lub L == 2.0"
   ]
  },
  {
   "cell_type": "code",
   "execution_count": null,
   "metadata": {},
   "outputs": [],
   "source": [
    "W = 3\n",
    "L = 4\n",
    "\n",
    "# ...\n",
    "    \n",
    "# print ( ocena )"
   ]
  },
  {
   "cell_type": "code",
   "execution_count": null,
   "metadata": {},
   "outputs": [],
   "source": []
  },
  {
   "cell_type": "markdown",
   "metadata": {},
   "source": [
    "# Zadanie 3\n",
    "\n",
    "Napisz kod, który dla danego wzrostu i wagi wyświetli BMI osoby oraz poda słowną interpretację\n",
    "\n",
    "\n",
    "Zakresy wartości BMI:\n",
    "\n",
    "    mniej niż 16 - wygłodzenie\n",
    "    16 - 16.99   - wychudzenie\n",
    "    17 - 18.49   - niedowaga\n",
    "    18.5 - 24.99 - wartość prawidłowa\n",
    "    25 - 29.99   - nadwaga\n",
    "    30 - 34.99   - I stopień otyłości\n",
    "    35 - 39.99   - II stopień otyłości\n",
    "    powyżej 40   - otyłość skrajna\n",
    "\n",
    "Dla przypomnienia\n",
    "\n",
    "$$ BMI = \\frac {masa}{wzrost^2} $$\n",
    "\n",
    "gdzie masa jest podana w kilogramach a wzrost w metrach"
   ]
  },
  {
   "cell_type": "code",
   "execution_count": null,
   "metadata": {},
   "outputs": [],
   "source": [
    "wzrost = 1.8\n",
    "waga = 90\n",
    "\n",
    "# Wypisz \"Twoje BMI wynosi ... co oznacza .... (np. niedowagę) \"\n"
   ]
  },
  {
   "cell_type": "code",
   "execution_count": null,
   "metadata": {},
   "outputs": [],
   "source": []
  },
  {
   "cell_type": "markdown",
   "metadata": {},
   "source": [
    "# Zadanie 4\n",
    "\n",
    "Pętla for w Pythonie:\n",
    "    \n",
    "```python\n",
    "for item in list:\n",
    "    expr1\n",
    "    expr2\n",
    "```\n",
    "\n",
    "Uruchom poniższe instrukcje i prześledź ich działanie:"
   ]
  },
  {
   "cell_type": "code",
   "execution_count": null,
   "metadata": {},
   "outputs": [],
   "source": [
    "fruits = [\"apple\", \"banana\", \"cherry\"]\n",
    "for x in fruits:\n",
    "  print(x)\n"
   ]
  },
  {
   "cell_type": "code",
   "execution_count": null,
   "metadata": {},
   "outputs": [],
   "source": [
    "lista = range(3) # range(start, stop, step) \n",
    "for n in lista:\n",
    "  print(n)\n"
   ]
  },
  {
   "cell_type": "code",
   "execution_count": null,
   "metadata": {},
   "outputs": [],
   "source": [
    "[ n**2 for n in range(3)] # wynik to 3-elementowa tablica"
   ]
  },
  {
   "cell_type": "code",
   "execution_count": null,
   "metadata": {},
   "outputs": [],
   "source": []
  },
  {
   "cell_type": "markdown",
   "metadata": {},
   "source": [
    "# Zadanie 5\n",
    "\n",
    "Pętla while w Pythonie:\n",
    "    \n",
    "```python\n",
    "while condition:\n",
    "    expr1\n",
    "    expr2\n",
    "```\n",
    "\n",
    "Napisz program, który wyświetli wszystkie liczby podzielne przez 5 z zakresu od A do B.\n"
   ]
  },
  {
   "cell_type": "code",
   "execution_count": null,
   "metadata": {},
   "outputs": [],
   "source": [
    "A = 3\n",
    "B = 72\n",
    "\n",
    "# ...\n"
   ]
  },
  {
   "cell_type": "code",
   "execution_count": null,
   "metadata": {},
   "outputs": [],
   "source": []
  },
  {
   "cell_type": "markdown",
   "metadata": {},
   "source": [
    "# Zadanie 6\n",
    "\n",
    "Instrukcja linspace (z biblioteki numpy) pozwala na utworzenie tablicy równomierie rozłożonych punktów z zakresu. \n",
    "Instrukcja ta jest przydatna przy tworzeniu wykresów funkcji. \n",
    "\n",
    "<br>\n",
    "Napisz kod, który wygeneruje wektor zawierający 9 liczb z przedziału od 1 do 3.\n"
   ]
  },
  {
   "cell_type": "code",
   "execution_count": null,
   "metadata": {},
   "outputs": [],
   "source": [
    "import numpy as np\n",
    "\n",
    "x = np.linspace(-6,6) #domyślnie 50 punktów\n",
    "print ('x =',x)\n",
    "\n",
    "y = np.linspace(2.0, 3.0, num=5, retstep=True)\n",
    "print ('y =',y)\n",
    "\n",
    "# z = ..."
   ]
  },
  {
   "cell_type": "code",
   "execution_count": null,
   "metadata": {},
   "outputs": [],
   "source": []
  },
  {
   "cell_type": "markdown",
   "metadata": {},
   "source": [
    "# Zadanie 7\n",
    "\n",
    "Proste wykresy funkcji można tworzyć korzystając z następującej metody:\n",
    "\n",
    "1. definiujemy wektor przechowujący kolejne wartości na osi OX, np. 100 wartości z zakresu 4...10\n",
    "\n",
    "x = np.linspace(4, 10, 100)\n",
    "\n",
    "2. obliczamy wartości funkcji w tych punktach\n",
    "\n",
    "y = 2*x+2\n",
    "\n",
    "3. rysujemy wykres\n",
    "\n",
    "plt.plot(x, y)\n",
    "\n",
    "\n",
    "<br>\n",
    "Narysuj graficzne rozwiązanie poniższego układu równań\n",
    "\n",
    "$$\n",
    "\\left\\{ \\begin{array}{ll}\n",
    "2x - y = -1\\\\\n",
    "3x +y =16\n",
    "\\end{array} \\right.\n",
    "$$"
   ]
  },
  {
   "cell_type": "code",
   "execution_count": null,
   "metadata": {},
   "outputs": [],
   "source": [
    "# import bibliotek\n",
    "import numpy as np\n",
    "import matplotlib.pyplot as plt\n",
    "\n",
    "# ...\n"
   ]
  },
  {
   "cell_type": "code",
   "execution_count": null,
   "metadata": {},
   "outputs": [],
   "source": []
  },
  {
   "cell_type": "markdown",
   "metadata": {},
   "source": [
    "# Zadanie 8\n",
    "\n",
    "Wyznacznik macierzy i macierz odwrotną obliczymy za pomocą poleceń det i inv. \n",
    "\n",
    "<br>\n",
    "Rozwiąż układ równań \n",
    "$$\n",
    "\\left\\{ \\begin{array}{ll}\n",
    "a_{11}x +a_{12}y = b_1\\\\\n",
    "a_{21}x +a_{11}y =b_2\n",
    "\\end{array} \\right.\n",
    "$$\n",
    "       \n",
    "obliczając macierz odwrotną $A^{-1}$ i mnożąc ją przez wektor $b$.\n",
    "       \n",
    "<br>\n",
    "Układ równań do rozwiązania: \n",
    "$$\n",
    "\\left\\{ \\begin{array}{ll}\n",
    "2x - y = -1\\\\\n",
    "3x +y =16\n",
    "\\end{array} \\right.\n",
    "$$"
   ]
  },
  {
   "cell_type": "code",
   "execution_count": null,
   "metadata": {},
   "outputs": [],
   "source": [
    "# import bibliotek\n",
    "import numpy as np\n",
    "\n",
    "# Wyznacznik macierzy\n",
    "matrix = np.array([[1, 2], [3, 4]])\n",
    "determinant = np.linalg.det(matrix)\n",
    "print('det(matrix) =',determinant) \n",
    "\n",
    "# Macierz odwrotna\n",
    "matrix = np.array([[1, 2], [3, 4]])\n",
    "inverse = np.linalg.inv(matrix)\n",
    "print('inv(matrix) =',inverse)\n"
   ]
  },
  {
   "cell_type": "code",
   "execution_count": null,
   "metadata": {},
   "outputs": [],
   "source": [
    "# Rozwiązanie układu równań liniowych:\n",
    "\n",
    "# A = ... \n",
    "\n",
    "# inverseA = ... \n",
    "\n",
    "# b = ...\n",
    "\n",
    "x = np.dot(inverseA,b) # rozwiązanie układu równań, czyli  inverseA*b\n",
    "print('[x,y] =',x) \n",
    "\n",
    "# Czy wynik zgadza się z otrzymanym metodą graficzną?"
   ]
  },
  {
   "cell_type": "code",
   "execution_count": null,
   "metadata": {},
   "outputs": [],
   "source": []
  }
 ],
 "metadata": {
  "kernelspec": {
   "display_name": "Python 3 (ipykernel)",
   "language": "python",
   "name": "python3"
  },
  "language_info": {
   "codemirror_mode": {
    "name": "ipython",
    "version": 3
   },
   "file_extension": ".py",
   "mimetype": "text/x-python",
   "name": "python",
   "nbconvert_exporter": "python",
   "pygments_lexer": "ipython3",
   "version": "3.9.12"
  }
 },
 "nbformat": 4,
 "nbformat_minor": 4
}
