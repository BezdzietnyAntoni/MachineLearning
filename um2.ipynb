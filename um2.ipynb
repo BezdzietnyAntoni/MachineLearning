{
 "cells": [
  {
   "cell_type": "code",
   "execution_count": null,
   "metadata": {},
   "outputs": [],
   "source": []
  },
  {
   "cell_type": "markdown",
   "metadata": {},
   "source": [
    "<font color='pink'> *Uczenie maszynowe* </font>\n",
    "\n",
    "## TEMAT 2: Dane: import i wizualizacja\n",
    "\n",
    "<font color='orange'> Prowadząca: dr inż. Urszula Libal </font>"
   ]
  },
  {
   "cell_type": "code",
   "execution_count": null,
   "metadata": {},
   "outputs": [],
   "source": []
  },
  {
   "cell_type": "markdown",
   "metadata": {},
   "source": [
    "# Zadanie 1\n",
    "\n",
    "Narysuj na jednym rysunku dwa wykresy funkcji, korzystając z komendy np.linspace (patrz poprzednie zajęcia):\n",
    "$$\n",
    "\\begin{array}{ll}\n",
    "y = -x^2+20\\\\\n",
    "y = -5x+10\n",
    "\\end{array} \n",
    "$$\n",
    "Podpisz odpowiednio osie OX i OY (komendy plt.xlabel, plt.ylabel) oraz dodaj do obrazka legendę (plt.legend).     "
   ]
  },
  {
   "cell_type": "code",
   "execution_count": null,
   "metadata": {},
   "outputs": [],
   "source": [
    "# import bibliotek\n",
    "import numpy as np\n",
    "import matplotlib.pyplot as plt\n",
    "\n",
    "# ...\n"
   ]
  },
  {
   "cell_type": "code",
   "execution_count": null,
   "metadata": {},
   "outputs": [],
   "source": []
  },
  {
   "cell_type": "markdown",
   "metadata": {},
   "source": [
    "# Zadanie 2\n",
    "\n",
    "Często wygodnie jest umieścić kilka rysunków na jednym obrazku. Służy do tego instrukcja subplot.\n",
    "\n",
    "Dopisz trzecią kolumnę wykresów tak, aby powstało w sumie 6 rysunków (2 wiersze x 3 kolumny). \n",
    "\n",
    "Zwróć uwagę na numerację wykresów! Dwa nowe wykresy powinny się znaleźć w trzeciej kolumnie."
   ]
  },
  {
   "cell_type": "code",
   "execution_count": null,
   "metadata": {},
   "outputs": [],
   "source": [
    "import matplotlib.pyplot as plt\n",
    "import numpy as np\n",
    "\n",
    "#plot 1:\n",
    "x = np.array([0, 1, 2, 3])\n",
    "y = np.array([3, 8, 1, 10])\n",
    "\n",
    "plt.subplot(2, 2, 1)\n",
    "plt.plot(x,y)\n",
    "\n",
    "#plot 2:\n",
    "x = np.array([0, 1, 2, 3])\n",
    "y = np.array([10, 20, 30, 40])\n",
    "\n",
    "plt.subplot(2, 2, 2)\n",
    "plt.plot(x,y)\n",
    "\n",
    "#plot 3:\n",
    "x = np.array([0, 1, 2, 3])\n",
    "y = np.array([3, 8, 1, 10])\n",
    "\n",
    "plt.subplot(2, 2, 3)\n",
    "plt.plot(x,y,'--r')\n",
    "\n",
    "#plot 4:\n",
    "x = np.array([0, 1, 2, 3])\n",
    "y = np.array([10, 20, 30, 40])\n",
    "\n",
    "plt.subplot(2, 2, 4)\n",
    "plt.plot(x,y,'ok')\n",
    "\n",
    "plt.show()"
   ]
  },
  {
   "cell_type": "code",
   "execution_count": null,
   "metadata": {},
   "outputs": [],
   "source": []
  },
  {
   "cell_type": "markdown",
   "metadata": {},
   "source": [
    "# Zadanie 3\n",
    "\n",
    "Wygenerujemy teraz 100 liczb z rozkładu normalnego $N(-4,1)$, czyli o średniej równej -4 i wariancji 1.\n",
    "\n",
    "Oblicz średnią próbkową, odchylenie standardowe i wariancję próbkową (komendy np.mean, np.std, np.var).\n",
    "\n",
    "Czy wartości te bardzo odbiegają od wartości teoretycznych?\n"
   ]
  },
  {
   "cell_type": "code",
   "execution_count": null,
   "metadata": {},
   "outputs": [],
   "source": [
    "#Sposób 1\n",
    "from scipy.stats import norm\n",
    "\n",
    "# generujemy losowe liczby z rozkładu normalnego N(-4,1)\n",
    "# size - liczba losowanych liczb\n",
    "# loc - średnia\n",
    "# scale - odchylenie standardowe\n",
    "data = norm.rvs(size=100,loc=-4,scale=1)\n",
    "\n",
    "print (data)\n",
    "\n",
    "# ...\n"
   ]
  },
  {
   "cell_type": "code",
   "execution_count": null,
   "metadata": {},
   "outputs": [],
   "source": [
    "#Sposób 2\n",
    "from numpy import random\n",
    "\n",
    "# generujemy losowe liczby z rozkładu normalnego N(-4,1)\n",
    "# size - liczba losowanych liczb\n",
    "# loc - średnia\n",
    "# scale - odchylenie standardowe\n",
    "data = random.normal(loc=-4, scale=1, size=100)\n",
    "\n",
    "print(data) \n",
    "\n",
    "# ..."
   ]
  },
  {
   "cell_type": "code",
   "execution_count": null,
   "metadata": {},
   "outputs": [],
   "source": []
  },
  {
   "cell_type": "markdown",
   "metadata": {},
   "source": [
    "# Zadanie 4\n",
    "\n",
    "Dla wygenerowanych 100 liczb z rozkładu normalnego $N(-4,1)$, wyrysujemy teraz histogram.\n",
    "\n",
    "Wygeneruj poniżej 1000 liczb z tego samego rozkładu i porównaj histogramy.\n"
   ]
  },
  {
   "cell_type": "code",
   "execution_count": null,
   "metadata": {},
   "outputs": [],
   "source": [
    "from scipy.stats import norm\n",
    "# dane\n",
    "data = norm.rvs(size=100,loc=-4,scale=1) #wylosowanie 100 liczb\n",
    "\n",
    "\n",
    "import seaborn as sns\n",
    "# histogram\n",
    "ax = sns.histplot(data,\n",
    "                  bins=10,\n",
    "                  kde=True) \n",
    "ax.set(xlabel='wartości danych', ylabel='liczebność', \n",
    "       title='N(-4,1), size=100, bins=10', xlim=[-8,2])"
   ]
  },
  {
   "cell_type": "code",
   "execution_count": null,
   "metadata": {},
   "outputs": [],
   "source": [
    "# histogram dla 1000 liczb\n",
    "# ..."
   ]
  },
  {
   "cell_type": "code",
   "execution_count": null,
   "metadata": {},
   "outputs": [],
   "source": []
  },
  {
   "cell_type": "markdown",
   "metadata": {},
   "source": [
    "# Zadanie 5\n",
    "\n",
    "Utworzymy teraz dane dwuwymiarowe $(X,Y)$. Pierwsza współrzędna $X$ będzie zawierać losowe liczby z rozkładu normalnego $N(-4,1)$, a druga współrzędna  $Y\\sim N(2,2)$.\n",
    "\n",
    "Zaprezentuj dane graficznie w postaci punktów na wykresie.\n",
    "\n",
    "Wyrysuj także histogramy dla $X$ i $Y$.\n",
    "\n",
    "Uwaga na zapis $N(mean,var)$!"
   ]
  },
  {
   "cell_type": "code",
   "execution_count": null,
   "metadata": {},
   "outputs": [],
   "source": [
    "from scipy.stats import norm\n",
    "import seaborn as sns\n",
    "import matplotlib.pyplot as plt\n",
    "import numpy as np\n",
    "\n",
    "fig, axs = plt.subplots(1, 3, figsize=(13, 3))\n",
    "\n",
    "#plot 1:\n",
    "# uzupełnij losowanie danych\n",
    "# x = ...\n",
    "# y = ...\n",
    "\n",
    "plt.subplot(1, 3, 1)\n",
    "plt.plot(x,y,'.r')\n",
    "plt.xlabel('zmienna X')\n",
    "plt.ylabel('zmienna Y')\n",
    "plt.title('DANE (X,Y)')\n",
    "\n",
    "#plot 2:\n",
    "plt.subplot(1, 3, 2)\n",
    "# histogram dla X\n",
    "ax = sns.histplot(x,\n",
    "                  bins=10,\n",
    "                  kde=True) \n",
    "ax.set(xlabel='zmienna X', ylabel='liczebność', \n",
    "       title='N(-4,1)', xlim=[-10,10])\n",
    "\n",
    "\n",
    "#plot 3:\n",
    "plt.subplot(1, 3, 3)\n",
    "# histogram dla Y\n",
    "ax = sns.histplot(y,\n",
    "                  bins=10,\n",
    "                  kde=True) \n",
    "ax.set(xlabel='zmienna Y', ylabel='liczebność', \n",
    "       title='N(2,2)', xlim=[-10,10])\n",
    "\n",
    "\n",
    "plt.show()"
   ]
  },
  {
   "cell_type": "code",
   "execution_count": null,
   "metadata": {},
   "outputs": [],
   "source": []
  },
  {
   "cell_type": "markdown",
   "metadata": {},
   "source": [
    "# Zadanie 6\n",
    "\n",
    "Import danych IRIS (4 cechy i 3 klasy). Dane są równomiernie rozłożone pomiędzy 3 klasy: w sumie wykonano pomiary płatków dla 150 irysów, a każda klasa liczy po 50 pomiarów (razy 4 cechy). Dokładny opis danych tu: https://en.wikipedia.org/wiki/Iris_flower_data_set\n",
    "\n",
    "W przypadku podziału danych na dwie lub więcej klas, dane rysujemy za pomocą scatter plot. Pozwala to na wyodrębnienie klas kolorami.\n"
   ]
  },
  {
   "cell_type": "code",
   "execution_count": null,
   "metadata": {},
   "outputs": [],
   "source": [
    "from sklearn import datasets\n",
    "\n",
    "iris = datasets.load_iris() # import danych \n",
    "\n",
    "# wyświetl nazwy cech\n",
    "print('CECHY:',iris.feature_names)\n",
    "\n",
    "# wyświetl nazwy klas\n",
    "print('KLASY:',iris.target_names)\n",
    "\n",
    "# wyświetl rozmiar danych\n",
    "print('ROZMIAR DANYCH:',iris.data.shape) # w sumie 150 irysów x 4 cechy\n",
    "\n",
    "iris.data[0:3,:] # 3 pierwsze wiersze tabeli \n"
   ]
  },
  {
   "cell_type": "code",
   "execution_count": null,
   "metadata": {},
   "outputs": [],
   "source": [
    "# scatter plot - rysunek 2D\n",
    "import matplotlib.pyplot as plt\n",
    "from sklearn import datasets\n",
    "\n",
    "\n",
    "iris = datasets.load_iris() # import danych \n",
    "X = iris.data[:, :2]  # dwie pierwsze kolumny (dwie cechy z czterech)\n",
    "y = iris.target # klasa (rodzaj irysa)\n",
    "\n",
    "\n",
    "plt.scatter(X[:, 0], X[:, 1], c=y)\n",
    "plt.xlabel(\"Cecha 1: Sepal Length\")\n",
    "plt.ylabel(\"Cecha 2: Sepal Width\")\n",
    "\n",
    "plt.show()"
   ]
  },
  {
   "cell_type": "code",
   "execution_count": null,
   "metadata": {},
   "outputs": [],
   "source": []
  },
  {
   "cell_type": "markdown",
   "metadata": {},
   "source": [
    "# Zadanie 7\n",
    "\n",
    "Dane IRIS zawierają pomiary 4 cech: sepal length, sepal width, petal length, petal width. \n",
    "\n",
    "Dane wielowymiarowe można zwizualizować w 3D."
   ]
  },
  {
   "cell_type": "code",
   "execution_count": null,
   "metadata": {},
   "outputs": [],
   "source": [
    "# rysunek 3D\n",
    "import plotly.express as px\n",
    " \n",
    "# Data to be plotted\n",
    "df = px.data.iris()\n",
    " \n",
    "# Plotting the figure\n",
    "fig = px.scatter_3d(df, x = 'sepal_width',\n",
    "                    y = 'sepal_length',\n",
    "                    z = 'petal_width',\n",
    "                    color = 'species')\n",
    " \n",
    "fig.show()"
   ]
  },
  {
   "cell_type": "code",
   "execution_count": null,
   "metadata": {},
   "outputs": [],
   "source": []
  },
  {
   "cell_type": "markdown",
   "metadata": {},
   "source": [
    "# Zadanie 8\n",
    "\n",
    "Podziel dane IRIS na 3 klasy i oblicz średnie wartości wszystkich 4 cech w każdej klasie.\n",
    "\n",
    "Porównaj wyniki z wizualizacjami 2D i 3D."
   ]
  },
  {
   "cell_type": "code",
   "execution_count": null,
   "metadata": {},
   "outputs": [],
   "source": [
    "import matplotlib.pyplot as plt\n",
    "from sklearn import datasets\n",
    "\n",
    "\n",
    "iris = datasets.load_iris() \n",
    "\n",
    "# dzielimy dane na 3 części:\n",
    "X1 = iris.data[0:50, :]  # KLASA 1: 'setosa' \n",
    "X2 = iris.data[50:100, :]  # KLASA 2: 'versicolor' \n",
    "X3 = iris.data[100:150, :]  # KLASA 3: 'virginica'\n",
    "\n",
    "# oblicz wartości średnie wszystkich 4 cech w klasach\n",
    "# ..."
   ]
  },
  {
   "cell_type": "code",
   "execution_count": null,
   "metadata": {},
   "outputs": [],
   "source": []
  },
  {
   "cell_type": "markdown",
   "metadata": {},
   "source": [
    "# Zadanie 9\n",
    "\n",
    "Dane DIGITS zawierają skany 1797 cyfr (10 klas). "
   ]
  },
  {
   "cell_type": "code",
   "execution_count": null,
   "metadata": {},
   "outputs": [],
   "source": [
    "from sklearn import datasets\n",
    "\n",
    "\n",
    "digits = datasets.load_digits()\n",
    "\n",
    "# wyświetl nazwy cech\n",
    "print('CECHY:',digits.feature_names)\n",
    "\n",
    "# wyświetl nazwy klas\n",
    "print('KLASY:',digits.target_names)\n",
    "\n",
    "# wyświetl rozmiar danych\n",
    "print('ROZMIAR DANYCH:',digits.data.shape) # w sumie 1797 obrazków x 64 cechy (8x8 pixeli)\n",
    "\n",
    "digits.data[0:3,:] # 3 pierwsze wiersze tabeli \n",
    "\n",
    "\n",
    "import matplotlib.pyplot as plt\n",
    "plt.gray()\n",
    "\n",
    "#kilka przykładowych obrazków z cyframi:\n",
    "plt.matshow(digits.images[0])\n",
    "plt.show()\n",
    "\n",
    "plt.matshow(digits.images[1])\n",
    "plt.show()\n",
    "\n",
    "plt.matshow(digits.images[15])\n",
    "plt.show()\n",
    "print(digits.images[15]) # macierz 8x8"
   ]
  },
  {
   "cell_type": "code",
   "execution_count": null,
   "metadata": {},
   "outputs": [],
   "source": []
  }
 ],
 "metadata": {
  "kernelspec": {
   "display_name": "Python 3 (ipykernel)",
   "language": "python",
   "name": "python3"
  },
  "language_info": {
   "codemirror_mode": {
    "name": "ipython",
    "version": 3
   },
   "file_extension": ".py",
   "mimetype": "text/x-python",
   "name": "python",
   "nbconvert_exporter": "python",
   "pygments_lexer": "ipython3",
   "version": "3.9.12"
  }
 },
 "nbformat": 4,
 "nbformat_minor": 4
}
